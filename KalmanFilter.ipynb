{
 "cells": [
  {
   "cell_type": "code",
   "execution_count": 1,
   "id": "bdb2380b-2371-466a-a22d-ef9932ad9e87",
   "metadata": {},
   "outputs": [],
   "source": [
    "# Import packages\n",
    "\n",
    "import matplotlib.pyplot as plt\n",
    "import numpy as np\n",
    "\n",
    "import math"
   ]
  },
  {
   "cell_type": "code",
   "execution_count": 18,
   "id": "b5a071c9-d429-43e1-a034-485f024305bb",
   "metadata": {},
   "outputs": [
    {
     "name": "stdout",
     "output_type": "stream",
     "text": [
      "(mean, variance)\n",
      "Measurement Update (9.996001599360255, 3.9984006397441023)\n",
      "Motion Update (10.996001599360255, 5.998400639744102)\n",
      "Measurement Update (13.99879888108731, 3.9984006397441023)\n",
      "Motion Update (14.99879888108731, 5.998400639744102)\n",
      "Measurement Update (17.998799999552617, 3.9984006397441023)\n",
      "Motion Update (18.998799999552617, 5.998400639744102)\n",
      "Measurement Update (18.999999520191743, 3.9984006397441023)\n",
      "Motion Update (20.999999520191743, 5.998400639744102)\n",
      "Measurement Update (22.999200319680206, 3.9984006397441023)\n",
      "Motion Update (23.999200319680206, 5.998400639744102)\n",
      "Measurement Update (23.99999968025577, 3.9984006397441023)\n",
      "Motion Update (25.99999968025577, 5.998400639744102)\n"
     ]
    }
   ],
   "source": [
    "# Purpose of Kalman filter is to predict compartment variables from noisy measurements \n",
    "\n",
    "# generate some data (given that measruements are noisy)\n",
    "# measures used for updating current rends\n",
    "# motions used to predict future trends\n",
    "\n",
    "measures = [10, 14, 18, 19, 23, 24]\n",
    "motions = [1, 1, 1, 2, 1, 2]\n",
    "\n",
    "# parameters\n",
    "# In Kalman filters, iterate measurement through Bayes rule (multiplication) and iterate through motion with probability (addition)\n",
    "    # purpose of this is to shift the mean\n",
    "meas_sig = 4\n",
    "mot_sig = 2\n",
    "mean = 0\n",
    "sig = 10000\n",
    "\n",
    "# need to find variance (Guassian spread) \n",
    "print(\"(mean, variance)\")\n",
    "for i in range(len(measures)):\n",
    "    # update the measurement by taking in two means and two squared variance terms and returning udpated gaussian param\n",
    "    mean = (meas_sig * mean + measures[i] * sig) / (meas_sig + sig) # new mean is just the weighted sum of old means\n",
    "    var = 1/(1/meas_sig + 1/sig) # variance used to caclulate by previous variances\n",
    "    \n",
    "    print('Measurement Update ({}, {})'.format(mean, var))\n",
    "    \n",
    "    # predict the motion update by doing similar to above but after motion\n",
    "    mean = mean + motions[i] # get new mean by just adding the motion to old mean\n",
    "    var = var + mot_sig # similar to var\n",
    "    \n",
    "    print('Motion Update ({}, {})'.format(mean, var))\n",
    "    "
   ]
  },
  {
   "cell_type": "code",
   "execution_count": 24,
   "id": "df5f5d4e-dac0-4dca-81f7-7a448ed507b8",
   "metadata": {},
   "outputs": [
    {
     "name": "stdout",
     "output_type": "stream",
     "text": [
      "Final (25.99999968025577, 5.998400639744102)\n"
     ]
    },
    {
     "data": {
      "image/png": "[encoded data removed]",
      "text/plain": [
       "<Figure size 432x288 with 1 Axes>"
      ]
     },
     "metadata": {
      "needs_background": "light"
     },
     "output_type": "display_data"
    }
   ],
   "source": [
    "# display the final resulting Gaussian and by setting resulting params as result of Kalman filter\n",
    "print(\"Final ({}, {})\".format(mean, var))\n",
    "\n",
    "# intialize some values for the x axis of this graph\n",
    "x = np.arange(-100, 100)\n",
    "\n",
    "y = []\n",
    "for i in x:\n",
    "    # turn into gaussian (continous function where location underneath sums up to 1\n",
    "    coeff = 1/math.sqrt(2 * math.pi * var)\n",
    "    expon = math.exp(-0.5 * (i - mean) ** 2 / var)\n",
    "    y.append(coeff * expon)\n",
    "    \n",
    "plt.plot(x, y)\n",
    "plt.show()"
   ]
  },
  {
   "cell_type": "code",
   "execution_count": null,
   "id": "3b40e8eb-4ca9-4f22-b58c-309c2c4f039e",
   "metadata": {},
   "outputs": [],
   "source": []
  }
 ],
 "metadata": {
  "kernelspec": {
   "display_name": "Python 3 (ipykernel)",
   "language": "python",
   "name": "python3"
  },
  "language_info": {
   "codemirror_mode": {
    "name": "ipython",
    "version": 3
   },
   "file_extension": ".py",
   "mimetype": "text/x-python",
   "name": "python",
   "nbconvert_exporter": "python",
   "pygments_lexer": "ipython3",
   "version": "3.8.12"
  }
 },
 "nbformat": 4,
 "nbformat_minor": 5
}
